{
 "cells": [
  {
   "cell_type": "markdown",
   "metadata": {},
   "source": [
    "# Implementing Monte Carlo Strategies in Scientific Computing (Liu 2001)"
   ]
  },
  {
   "cell_type": "markdown",
   "metadata": {},
   "source": [
    "####        _by Daniel Cunha_"
   ]
  },
  {
   "cell_type": "code",
   "execution_count": 3,
   "metadata": {},
   "outputs": [],
   "source": [
    "import math\n",
    "import pandas as pd\n",
    "import numpy as np\n",
    "import scipy as sp\n",
    "import matplotlib.pyplot as plt"
   ]
  },
  {
   "cell_type": "markdown",
   "metadata": {},
   "source": [
    "## 2.2 The Rejection Method (includes 2.1 Generating Simple Random Variables)"
   ]
  },
  {
   "cell_type": "markdown",
   "metadata": {},
   "source": [
    "We have a target distribution $\\pi(x)$ that we would like to sample. We know the density , however we do not have an analytic solution of the CDF, and thus cannot use the inversion method to sample.  Suppose we do have a distribution we can already sample, then as long as this distribution _covers_ $\\pi(x)$, we can use this initial distribution, and the rejection method to sample $\\pi(x)$. \n",
    "\n",
    "Suppose $l(x) = c\\pi(x)$ is computable, where $\\pi$ is a probability density, and $c$ is unknown.  If we can find a sampling distribution $g(x)$ and _covering constant_ $M$, having $Mg(x) \\geq c\\pi(x)\\ \\forall x$ Then we can apply the following procedure."
   ]
  },
  {
   "cell_type": "markdown",
   "metadata": {},
   "source": [
    "#### _Rejection Sampling_ [von Neumann(1951)]"
   ]
  },
  {
   "cell_type": "markdown",
   "metadata": {},
   "source": [
    "a.) Draw a sample $x$ from $g()$ and compute the ratio $$ r = \\frac{l(x)}{Mg(X)}\\ (\\leq1).$$\n",
    "b.) Flip a coin with success probability $r$;\n",
    "   * if the head turns up, we accept and return the $x$;\n",
    "   * otherwise, we reject the $x$ and go back to a.)"
   ]
  },
  {
   "cell_type": "markdown",
   "metadata": {},
   "source": [
    "## Example: _Truncated Gaussian Sampler_"
   ]
  },
  {
   "cell_type": "markdown",
   "metadata": {},
   "source": [
    "### Setup"
   ]
  },
  {
   "cell_type": "markdown",
   "metadata": {},
   "source": [
    "Suppose we want to draw samples from $$\\pi(x) \\propto \\phi(x)I_{x>c}$$ where $\\phi(x)$ is the standard normal density, $I$ is the indicator function indicating $x>c$ (note this is a new instantiation of the variable c. It is not the normalizing constant defined above).\n",
    "\n",
    "Notice the following relationship, $$\\pi(x) \\propto \\phi(x)I_{x>c}=\\phi(x|x>c)=\\frac{P(x,x>c)}{P(x>c)}= \\frac{\\phi(x+c)}{1-\\Phi(c)}$$\n",
    "\n",
    "Finally, let $g(x) = \\lambda_0 e^{-\\lambda_0 x}$.  We can sample this distribution by analytically inverting its CDF."
   ]
  },
  {
   "cell_type": "markdown",
   "metadata": {},
   "source": [
    "#### Define needed functions"
   ]
  },
  {
   "cell_type": "code",
   "execution_count": 4,
   "metadata": {},
   "outputs": [],
   "source": [
    "#This is the _err_ function needed for the Gaussian distribution CDF\n",
    "def err(x,n):\n",
    "    err_x = 0\n",
    "    for i in range(n):\n",
    "        err_x += ((-1.0)**i) * (x**((2.0*i)+1))/(math.factorial(i)*((2*i)+1))\n",
    "    err_x = (2.0/math.sqrt(math.pi))*err_x\n",
    "    return err_x"
   ]
  },
  {
   "cell_type": "code",
   "execution_count": 5,
   "metadata": {},
   "outputs": [],
   "source": [
    "#Approximation to Gaussian Distribution CDF\n",
    "def Phi(x,n):\n",
    "    return 0.5*(1.0+err((x/math.sqrt(2.0)),n))"
   ]
  },
  {
   "cell_type": "code",
   "execution_count": 6,
   "metadata": {},
   "outputs": [],
   "source": [
    "#Inverve of Exponential CDF with parameter lambda_0\n",
    "def inverse_exp(x,lambda_0):\n",
    "    return -1.0*math.log(1.0-x)/float(lambda_0)"
   ]
  },
  {
   "cell_type": "code",
   "execution_count": 7,
   "metadata": {},
   "outputs": [],
   "source": [
    "#Exponential density\n",
    "def expo(x,lambda_0):\n",
    "    return lambda_0*math.exp(-lambda_0*x)"
   ]
  },
  {
   "cell_type": "code",
   "execution_count": 8,
   "metadata": {},
   "outputs": [],
   "source": [
    "#Gaussian density\n",
    "def phi(x):\n",
    "    return math.exp((-(x**2.0))/2.0)/math.sqrt(2.0*math.pi)"
   ]
  },
  {
   "cell_type": "markdown",
   "metadata": {},
   "source": [
    "#### Set up assumptions and kwargs"
   ]
  },
  {
   "cell_type": "code",
   "execution_count": 9,
   "metadata": {},
   "outputs": [],
   "source": [
    "#We will draw samples from phi(x)*I_{x>c}\n",
    "c = 0.0"
   ]
  },
  {
   "cell_type": "code",
   "execution_count": 10,
   "metadata": {},
   "outputs": [],
   "source": [
    "#Numerical precision of the err function in the Gaussian CDF; degree of taylor polynomial approximation\n",
    "n = 125"
   ]
  },
  {
   "cell_type": "code",
   "execution_count": 11,
   "metadata": {},
   "outputs": [],
   "source": [
    "#Gaussian CDF evaluated at c\n",
    "Phi_c = Phi(c,n)"
   ]
  },
  {
   "cell_type": "markdown",
   "metadata": {},
   "source": [
    "### Optimize the envelope function and comparison distribution"
   ]
  },
  {
   "cell_type": "markdown",
   "metadata": {},
   "source": [
    "#### Here's how to solve for $b$\n",
    "Let $b$ be a constant chosen to ensure $b*g(x)$ is an _envelope_ of $l(x)$. The variable $b$ is an instance of the variable $M$ used in the introductory discussion. \n",
    "\n",
    "Choose $b$ such that the following inequality to hold for $\\forall x$:\n",
    "\n",
    "\\begin{align*}\n",
    "    \\frac{\\phi(x+c)}{1-\\Phi(c)} \\leq b\\lambda_0e^{-\\lambda_0x}\\tag{Setup}\\\\\n",
    "    \\frac{e^{\\frac{-(x+c)^2}{2}}e^{\\lambda_0x}}{\\sqrt{2\\pi}(1-\\Phi(c))\\lambda_0} \\leq b\\tag{Replace $\\phi$ with standard normal, solve for b}\n",
    "\\end{align*}\n",
    "\n",
    "Now choose the maximum value of the left side w.r.t. $x$ by setting the derivative of its $log$ to $0$\n",
    "\\begin{align*}\n",
    "    -(x+c)+\\lambda_0 = 0\\tag{After taking derivative}\\\\\n",
    "    x = \\lambda_0 - c\n",
    "\\end{align*}\n",
    "\n",
    "Finally, plug this value of $x$ back into the original equation to get $b$\n",
    "$$b = \\frac{e^\\frac{\\lambda_0^2 - 2\\lambda c}{2}}{\\sqrt{2\\pi}(1-\\Phi(c))\\lambda_0}$$"
   ]
  },
  {
   "cell_type": "markdown",
   "metadata": {},
   "source": [
    "#### Here's how to solve for $\\lambda$"
   ]
  },
  {
   "cell_type": "markdown",
   "metadata": {},
   "source": [
    "We have solved $b$ such that $\\forall x$\n",
    "$$\\frac{\\phi(x+c)}{1-\\Phi(c)} \\leq b\\lambda_0e^{-\\lambda_0x}$$\n",
    "The rejection rate of this sampler of $\\pi(x)$ is  $\\frac{1}{b}$. The next step is to choose the parameter $\\lambda_0$ to minimize the rejection rate.  Set $\\frac{d\\ log(\\frac{1}{b})}{d \\lambda_0}=0$ and solve for $\\lambda_0$.\n",
    "$$\\lambda_0 = \\frac{c + \\sqrt{c^2 + 4}}{2}$$"
   ]
  },
  {
   "cell_type": "code",
   "execution_count": 13,
   "metadata": {},
   "outputs": [],
   "source": [
    "lambda_0 = (c + math.sqrt((c**2.0)+4.0))/2.0"
   ]
  },
  {
   "cell_type": "code",
   "execution_count": 14,
   "metadata": {},
   "outputs": [],
   "source": [
    "b = math.exp(((lambda_0**2.0) - (2.0*lambda_0*c))/2.0)/(math.sqrt(2.0*math.pi)*lambda_0*(1.0-Phi_c))"
   ]
  },
  {
   "cell_type": "markdown",
   "metadata": {},
   "source": [
    "### Run the rejection sampler\n",
    "Now run the rejection sampler as defined in the introduction of this notebook"
   ]
  },
  {
   "cell_type": "code",
   "execution_count": 16,
   "metadata": {},
   "outputs": [],
   "source": [
    "def truncated_gaussian_sampler(itera):\n",
    "    exponential = []\n",
    "    samples = []\n",
    "    rejection = []\n",
    "    probabilities = []\n",
    "    for i in range(itera):\n",
    "        x_inv = np.random.uniform()\n",
    "        x = inverse_exp(x_inv, lambda_0)\n",
    "        r = (phi(x+c)/(1-Phi_c))/(b*expo(x,lambda_0))\n",
    "        probabilities.append(r)\n",
    "        exponential.append(x)\n",
    "        coin = np.random.uniform()\n",
    "        if coin<r:\n",
    "            #print(\"keep sample\")\n",
    "            samples.append(x)\n",
    "            rejection.append(0)\n",
    "        else:\n",
    "            #print(\"reject sample\")\n",
    "            rejection.append(1)\n",
    "    return np.array(samples),np.array(rejection),np.array(exponential),np.array(probabilities)"
   ]
  },
  {
   "cell_type": "code",
   "execution_count": 17,
   "metadata": {},
   "outputs": [],
   "source": [
    "itera=100000\n",
    "samples,rejection,exponential,probabilities = truncated_gaussian_sampler(itera)"
   ]
  },
  {
   "cell_type": "code",
   "execution_count": 18,
   "metadata": {},
   "outputs": [
    {
     "data": {
      "image/png": "[encoded data removed]",
      "text/plain": [
       "<Figure size 432x288 with 1 Axes>"
      ]
     },
     "metadata": {
      "needs_background": "light"
     },
     "output_type": "display_data"
    }
   ],
   "source": [
    "plt.hist(exponential, bins='auto', alpha=0.5,label='Exponential')\n",
    "plt.hist(samples, bins='auto', alpha=0.5,label='Upper Gaussian')  # arguments are passed to np.histogram\n",
    "plt.legend(loc='upper right')\n",
    "plt.title(\"Histogram of phi(x)*I_{x>c}\")\n",
    "plt.show()"
   ]
  },
  {
   "cell_type": "code",
   "execution_count": 19,
   "metadata": {},
   "outputs": [
    {
     "data": {
      "text/plain": [
       "(0.7954301053959651, 0.36364251806673153)"
      ]
     },
     "execution_count": 19,
     "metadata": {},
     "output_type": "execute_result"
    }
   ],
   "source": [
    "samples.mean(), samples.var()"
   ]
  },
  {
   "cell_type": "code",
   "execution_count": 21,
   "metadata": {},
   "outputs": [
    {
     "data": {
      "text/plain": [
       "(0.23966, 0.23982654946685966)"
      ]
     },
     "execution_count": 21,
     "metadata": {},
     "output_type": "execute_result"
    }
   ],
   "source": [
    "#The empirical rejection rate matches the analytical result\n",
    "rejection.mean(), 1-(1/b)"
   ]
  },
  {
   "cell_type": "code",
   "execution_count": 22,
   "metadata": {},
   "outputs": [
    {
     "data": {
      "text/plain": [
       "(1.0, 0.9969463767723395)"
      ]
     },
     "execution_count": 22,
     "metadata": {},
     "output_type": "execute_result"
    }
   ],
   "source": [
    "#The inversion method correctly samples from the exponential distribution\n",
    "lambda_0**(-1), exponential.mean(),"
   ]
  },
  {
   "cell_type": "code",
   "execution_count": 23,
   "metadata": {},
   "outputs": [
    {
     "data": {
      "text/plain": [
       "(1.0, 0.9981890980232558)"
      ]
     },
     "execution_count": 23,
     "metadata": {},
     "output_type": "execute_result"
    }
   ],
   "source": [
    "lambda_0**(-2), exponential.var()"
   ]
  },
  {
   "cell_type": "code",
   "execution_count": null,
   "metadata": {},
   "outputs": [],
   "source": []
  },
  {
   "cell_type": "code",
   "execution_count": 59,
   "metadata": {},
   "outputs": [],
   "source": []
  }
 ],
 "metadata": {
  "kernelspec": {
   "display_name": "Python 3",
   "language": "python",
   "name": "python3"
  },
  "language_info": {
   "codemirror_mode": {
    "name": "ipython",
    "version": 3
   },
   "file_extension": ".py",
   "mimetype": "text/x-python",
   "name": "python",
   "nbconvert_exporter": "python",
   "pygments_lexer": "ipython3",
   "version": "3.6.4"
  }
 },
 "nbformat": 4,
 "nbformat_minor": 2
}
